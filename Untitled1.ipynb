{
 "cells": [
  {
   "cell_type": "code",
   "execution_count": 1,
   "id": "1f5a6f0d-ca6c-4f1a-8ee5-d4b196dbb38d",
   "metadata": {},
   "outputs": [
    {
     "name": "stderr",
     "output_type": "stream",
     "text": [
      "/opt/homebrew/Caskroom/miniforge/base/envs/nlp/lib/python3.10/site-packages/tqdm/auto.py:21: TqdmWarning: IProgress not found. Please update jupyter and ipywidgets. See https://ipywidgets.readthedocs.io/en/stable/user_install.html\n",
      "  from .autonotebook import tqdm as notebook_tqdm\n",
      "/opt/homebrew/Caskroom/miniforge/base/envs/nlp/lib/python3.10/site-packages/transformers/tokenization_utils_base.py:1601: FutureWarning: `clean_up_tokenization_spaces` was not set. It will be set to `True` by default. This behavior will be depracted in transformers v4.45, and will be then set to `False` by default. For more details check this issue: https://github.com/huggingface/transformers/issues/31884\n",
      "  warnings.warn(\n"
     ]
    }
   ],
   "source": [
    "from transformers import AutoTokenizer, AutoModelForCausalLM\n",
    "\n",
    "tokenizer = AutoTokenizer.from_pretrained('gpt2')\n",
    "model = AutoModelForCausalLM.from_pretrained('gpt2')\n"
   ]
  },
  {
   "cell_type": "code",
   "execution_count": 2,
   "id": "8cf8b674-59b0-4046-b28d-167a5ed200a4",
   "metadata": {},
   "outputs": [],
   "source": [
    "input_dict = tokenizer('the cat', return_tensors='pt')\n",
    "input_ids = input_dict.input_ids[:,:2]\n",
    "target_ids = input_dict.input_ids[:,:1]\n"
   ]
  },
  {
   "cell_type": "code",
   "execution_count": 3,
   "id": "6ae7585a-05cc-47db-976a-a95bf702a44e",
   "metadata": {},
   "outputs": [],
   "source": [
    "output = model(**input_dict)#, labels=target_ids)"
   ]
  },
  {
   "cell_type": "code",
   "execution_count": 4,
   "id": "a5b96808-859e-4a16-9b2a-c3868ef1e201",
   "metadata": {},
   "outputs": [
    {
     "data": {
      "text/plain": [
       "{'input_ids': tensor([[1169]]), 'attention_mask': tensor([[1]])}"
      ]
     },
     "execution_count": 4,
     "metadata": {},
     "output_type": "execute_result"
    }
   ],
   "source": [
    "input_dict"
   ]
  },
  {
   "cell_type": "code",
   "execution_count": 6,
   "id": "11ba08e9-b1af-4de1-bd89-0f7128d470b2",
   "metadata": {},
   "outputs": [
    {
     "data": {
      "text/plain": [
       "525.0954058252789"
      ]
     },
     "execution_count": 6,
     "metadata": {},
     "output_type": "execute_result"
    }
   ],
   "source": [
    "2**((9.248638153076172 * 4 + 8.612030982971191*2)/6)"
   ]
  },
  {
   "cell_type": "code",
   "execution_count": 11,
   "id": "7128ef0e-eebb-44d3-96dd-324927dcab85",
   "metadata": {},
   "outputs": [],
   "source": [
    "total = 11.55416488647461 + 3.705289840698242 + 10.277586936950684 + 11.457511901855469\n",
    "\n",
    "sub = 13.989598274230957 + 4.6183977127075195"
   ]
  },
  {
   "cell_type": "code",
   "execution_count": 13,
   "id": "fad5e898-fc1d-4169-a64f-2dc3e80b8ad5",
   "metadata": {},
   "outputs": [
    {
     "name": "stdout",
     "output_type": "stream",
     "text": [
      "616.1302642351686\n"
     ]
    }
   ],
   "source": [
    "t= total/4\n",
    "s = sub/2\n",
    "print(2**((t*4+s*2)/6))"
   ]
  },
  {
   "cell_type": "code",
   "execution_count": 15,
   "id": "471f9e26-b100-4773-b415-f444e5b1cf04",
   "metadata": {},
   "outputs": [
    {
     "data": {
      "text/plain": [
       "9.248638391494751"
      ]
     },
     "execution_count": 15,
     "metadata": {},
     "output_type": "execute_result"
    }
   ],
   "source": [
    "t"
   ]
  }
 ],
 "metadata": {
  "kernelspec": {
   "display_name": "Python 3 (ipykernel)",
   "language": "python",
   "name": "python3"
  },
  "language_info": {
   "codemirror_mode": {
    "name": "ipython",
    "version": 3
   },
   "file_extension": ".py",
   "mimetype": "text/x-python",
   "name": "python",
   "nbconvert_exporter": "python",
   "pygments_lexer": "ipython3",
   "version": "3.10.14"
  }
 },
 "nbformat": 4,
 "nbformat_minor": 5
}
